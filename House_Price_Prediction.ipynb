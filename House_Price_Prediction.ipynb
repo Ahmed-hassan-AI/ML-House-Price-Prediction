{
  "cells": [
    {
      "cell_type": "code",
      "execution_count": 149,
      "metadata": {
        "id": "mH0NPZHov5DF"
      },
      "outputs": [],
      "source": [
        "import pandas as pd\n",
        "import numpy as np\n",
        "from xgboost  import XGBRegressor\n",
        "from sklearn.model_selection import train_test_split\n",
        "from sklearn.metrics import mean_absolute_error , r2_score"
      ]
    },
    {
      "cell_type": "code",
      "execution_count": 150,
      "metadata": {
        "id": "WRtm3QXtySJF"
      },
      "outputs": [],
      "source": [
        "houses_data=pd.read_csv('/content/boston.csv')"
      ]
    },
    {
      "cell_type": "code",
      "execution_count": 138,
      "metadata": {
        "id": "kidSVYZaySLj",
        "colab": {
          "base_uri": "https://localhost:8080/"
        },
        "outputId": "b2953d40-ab48-464f-c4aa-7a85d1c29959"
      },
      "outputs": [
        {
          "output_type": "execute_result",
          "data": {
            "text/plain": [
              "(506, 15)"
            ]
          },
          "metadata": {},
          "execution_count": 138
        }
      ],
      "source": [
        "# data dim is 506 * 15\n",
        "houses_data.shape"
      ]
    },
    {
      "cell_type": "code",
      "execution_count": null,
      "metadata": {
        "id": "whdTMXa73_WI"
      },
      "outputs": [],
      "source": [
        "# After checking that there are no empty data\n",
        "houses_data.isnull().sum()"
      ]
    },
    {
      "cell_type": "code",
      "execution_count": null,
      "metadata": {
        "id": "2H400I6P3_YA"
      },
      "outputs": [],
      "source": [
        "# After checking that there is no duplicate data\n",
        "houses_data.duplicated().sum()"
      ]
    },
    {
      "cell_type": "markdown",
      "metadata": {
        "id": "Ifl2QmTw8EZu"
      },
      "source": [
        "***data Split***"
      ]
    },
    {
      "cell_type": "code",
      "execution_count": 151,
      "metadata": {
        "id": "n0xBCBr43_aI"
      },
      "outputs": [],
      "source": [
        "X=houses_data.drop(columns=['PRICE'],axis=1)\n",
        "Y=houses_data['PRICE']\n",
        "X_train , X_test , Y_train , Y_test= train_test_split(X,Y,test_size=0.2,random_state=2)"
      ]
    },
    {
      "cell_type": "markdown",
      "source": [
        "**Train model**"
      ],
      "metadata": {
        "id": "zX_FXB7QCzlo"
      }
    },
    {
      "cell_type": "code",
      "execution_count": 152,
      "metadata": {
        "id": "ASf46pMj5RDu"
      },
      "outputs": [],
      "source": [
        "Prediction_model=XGBRegressor()"
      ]
    },
    {
      "cell_type": "code",
      "execution_count": null,
      "metadata": {
        "id": "knK5J8aY5RJV"
      },
      "outputs": [],
      "source": [
        "Prediction_model.fit(X_train,Y_train)"
      ]
    },
    {
      "cell_type": "code",
      "execution_count": 154,
      "metadata": {
        "id": "kZbJwl_5A94e"
      },
      "outputs": [],
      "source": [
        "Training_data_predictions=Prediction_model.predict(X_train)\n",
        "Test_data_predictions=Prediction_model.predict(X_test)"
      ]
    },
    {
      "cell_type": "code",
      "execution_count": 155,
      "metadata": {
        "id": "fs-BKkD3A96t"
      },
      "outputs": [],
      "source": [
        "train_data_mean_error=mean_absolute_error(Y_train,Training_data_predictions)\n",
        "train_data_score=r2_score(Y_train,Training_data_predictions)"
      ]
    },
    {
      "cell_type": "code",
      "source": [
        "print('train data mean absolute Error:',train_data_mean_error)\n",
        "print('train data Score:',train_data_score)"
      ],
      "metadata": {
        "colab": {
          "base_uri": "https://localhost:8080/"
        },
        "id": "nRmq5WkPCm3A",
        "outputId": "3ad5d159-d9bf-4e14-b08c-d9a54ab83d83"
      },
      "execution_count": 156,
      "outputs": [
        {
          "output_type": "stream",
          "name": "stdout",
          "text": [
            "train data mean absolute Error: 0.00899344245986183\n",
            "train data Score: 0.9999981148690247\n"
          ]
        }
      ]
    },
    {
      "cell_type": "code",
      "source": [
        "test_data_mean_error=mean_absolute_error(Y_test,Test_data_predictions)\n",
        "test_data_score=r2_score(Y_test,Test_data_predictions)"
      ],
      "metadata": {
        "id": "0bDCmWPoFCl6"
      },
      "execution_count": 157,
      "outputs": []
    },
    {
      "cell_type": "code",
      "source": [
        "print('test data mean absolute Error:',test_data_mean_error)\n",
        "print('test data Score:',test_data_score)"
      ],
      "metadata": {
        "colab": {
          "base_uri": "https://localhost:8080/"
        },
        "id": "CyCZu8dsFCab",
        "outputId": "d84b5a92-c9c2-406d-d913-dbfb6ca4f2df"
      },
      "execution_count": 158,
      "outputs": [
        {
          "output_type": "stream",
          "name": "stdout",
          "text": [
            "test data mean absolute Error: 2.0080178139256493\n",
            "test data Score: 0.9126650746118214\n"
          ]
        }
      ]
    }
  ],
  "metadata": {
    "colab": {
      "provenance": []
    },
    "kernelspec": {
      "display_name": "Python 3",
      "name": "python3"
    },
    "language_info": {
      "name": "python"
    }
  },
  "nbformat": 4,
  "nbformat_minor": 0
}