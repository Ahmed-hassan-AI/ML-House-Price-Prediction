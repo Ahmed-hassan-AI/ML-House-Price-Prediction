{
  "cells": [
    {
      "cell_type": "code",
      "execution_count": 123,
      "metadata": {
        "id": "mH0NPZHov5DF"
      },
      "outputs": [],
      "source": [
        "import pandas as pd\n",
        "import numpy as np\n",
        "from xgboost  import XGBRegressor\n",
        "from sklearn.model_selection import train_test_split\n",
        "from sklearn.preprocessing import StandardScaler\n",
        "from sklearn.metrics import mean_absolute_error , r2_score"
      ]
    },
    {
      "cell_type": "code",
      "execution_count": 124,
      "metadata": {
        "id": "WRtm3QXtySJF"
      },
      "outputs": [],
      "source": [
        "houses_data=pd.read_csv('/content/boston.csv')"
      ]
    },
    {
      "cell_type": "code",
      "execution_count": 125,
      "metadata": {
        "id": "kidSVYZaySLj",
        "colab": {
          "base_uri": "https://localhost:8080/"
        },
        "outputId": "793c2d4f-8247-4dcc-f6b8-3afa07eccfc9"
      },
      "outputs": [
        {
          "output_type": "execute_result",
          "data": {
            "text/plain": [
              "(506, 15)"
            ]
          },
          "metadata": {},
          "execution_count": 125
        }
      ],
      "source": [
        "# data dim is 506 * 15\n",
        "houses_data.shape"
      ]
    },
    {
      "cell_type": "code",
      "execution_count": null,
      "metadata": {
        "id": "whdTMXa73_WI"
      },
      "outputs": [],
      "source": [
        "# After checking that there are no empty data\n",
        "houses_data.isnull().sum()"
      ]
    },
    {
      "cell_type": "code",
      "execution_count": null,
      "metadata": {
        "id": "2H400I6P3_YA"
      },
      "outputs": [],
      "source": [
        "# After checking that there is no duplicate data\n",
        "houses_data.duplicated().sum()"
      ]
    },
    {
      "cell_type": "markdown",
      "metadata": {
        "id": "Ifl2QmTw8EZu"
      },
      "source": [
        "***data Split***"
      ]
    },
    {
      "cell_type": "code",
      "execution_count": 127,
      "metadata": {
        "id": "aPDwgm1-9aUL"
      },
      "outputs": [],
      "source": [
        "features=houses_data.columns\n",
        "transformer=StandardScaler()\n",
        "transformer.fit(houses_data)\n",
        "houses_data_scaler=transformer.transform(houses_data)"
      ]
    },
    {
      "cell_type": "code",
      "execution_count": 128,
      "metadata": {
        "id": "yhHl4zKM8DeO"
      },
      "outputs": [],
      "source": [
        "houses_data=pd.DataFrame(houses_data_scaler,columns=features)"
      ]
    },
    {
      "cell_type": "code",
      "execution_count": 129,
      "metadata": {
        "id": "n0xBCBr43_aI"
      },
      "outputs": [],
      "source": [
        "X=houses_data.drop(columns=['PRICE'],axis=1)\n",
        "Y=houses_data['PRICE']\n",
        "X_train , X_test , Y_train , Y_test= train_test_split(X,Y,test_size=0.2,random_state=2)"
      ]
    },
    {
      "cell_type": "markdown",
      "source": [
        "**Train model**"
      ],
      "metadata": {
        "id": "zX_FXB7QCzlo"
      }
    },
    {
      "cell_type": "code",
      "execution_count": 130,
      "metadata": {
        "id": "ASf46pMj5RDu"
      },
      "outputs": [],
      "source": [
        "Prediction_model=XGBRegressor()"
      ]
    },
    {
      "cell_type": "code",
      "execution_count": null,
      "metadata": {
        "id": "knK5J8aY5RJV"
      },
      "outputs": [],
      "source": [
        "Prediction_model.fit(X_train,Y_train)"
      ]
    },
    {
      "cell_type": "code",
      "execution_count": 113,
      "metadata": {
        "id": "kZbJwl_5A94e"
      },
      "outputs": [],
      "source": [
        "Training_data_predictions=Prediction_model.predict(X_train)\n",
        "Test_data_predictions=Prediction_model.predict(X_test)"
      ]
    },
    {
      "cell_type": "code",
      "execution_count": 132,
      "metadata": {
        "id": "fs-BKkD3A96t"
      },
      "outputs": [],
      "source": [
        "train_data_mean_error=mean_absolute_error(Y_train,Training_data_predictions)\n",
        "train_data_score=r2_score(Y_train,Training_data_predictions)"
      ]
    },
    {
      "cell_type": "code",
      "source": [
        "print('train data mean absolute Error:',train_data_mean_error)\n",
        "print('train data Score:',train_data_score)"
      ],
      "metadata": {
        "colab": {
          "base_uri": "https://localhost:8080/"
        },
        "id": "nRmq5WkPCm3A",
        "outputId": "f897bc94-3bf4-4e96-d893-d8bccabd3344"
      },
      "execution_count": 133,
      "outputs": [
        {
          "output_type": "stream",
          "name": "stdout",
          "text": [
            "train data mean absolute Error: 0.001066585740388836\n",
            "train data Score: 0.999997748555127\n"
          ]
        }
      ]
    },
    {
      "cell_type": "code",
      "source": [
        "test_data_mean_error=mean_absolute_error(Y_test,Test_data_predictions)\n",
        "test_data_score=r2_score(Y_test,Test_data_predictions)"
      ],
      "metadata": {
        "id": "0bDCmWPoFCl6"
      },
      "execution_count": 134,
      "outputs": []
    },
    {
      "cell_type": "code",
      "source": [
        "print('test data mean absolute Error:',test_data_mean_error)\n",
        "print('test data Score:',test_data_score)"
      ],
      "metadata": {
        "colab": {
          "base_uri": "https://localhost:8080/"
        },
        "id": "CyCZu8dsFCab",
        "outputId": "bb457c00-9245-4d2f-f343-5acfa344f2a7"
      },
      "execution_count": 135,
      "outputs": [
        {
          "output_type": "stream",
          "name": "stdout",
          "text": [
            "test data mean absolute Error: 0.21866973942576431\n",
            "test data Score: 0.9129034806584871\n"
          ]
        }
      ]
    }
  ],
  "metadata": {
    "colab": {
      "provenance": []
    },
    "kernelspec": {
      "display_name": "Python 3",
      "name": "python3"
    },
    "language_info": {
      "name": "python"
    }
  },
  "nbformat": 4,
  "nbformat_minor": 0
}